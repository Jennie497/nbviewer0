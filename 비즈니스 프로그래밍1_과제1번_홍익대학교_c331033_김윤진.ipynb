{
 "cells": [
  {
   "cell_type": "markdown",
   "metadata": {},
   "source": [
    "c331033 김윤진"
   ]
  },
  {
   "cell_type": "markdown",
   "metadata": {},
   "source": [
    "# 기출문제"
   ]
  },
  {
   "cell_type": "code",
   "execution_count": 77,
   "metadata": {},
   "outputs": [
    {
     "name": "stdout",
     "output_type": "stream",
     "text": [
      "123\n"
     ]
    }
   ],
   "source": [
    "a = 123; print(a)"
   ]
  },
  {
   "cell_type": "code",
   "execution_count": 78,
   "metadata": {},
   "outputs": [
    {
     "name": "stdout",
     "output_type": "stream",
     "text": [
      "Python\n"
     ]
    }
   ],
   "source": [
    "a = \"Python\"; print(a)"
   ]
  },
  {
   "cell_type": "code",
   "execution_count": 79,
   "metadata": {},
   "outputs": [
    {
     "name": "stdout",
     "output_type": "stream",
     "text": [
      "2.0\n"
     ]
    }
   ],
   "source": [
    "a = 6/3; print(a)"
   ]
  },
  {
   "cell_type": "code",
   "execution_count": 80,
   "metadata": {},
   "outputs": [
    {
     "name": "stdout",
     "output_type": "stream",
     "text": [
      "<class 'int'>\n"
     ]
    }
   ],
   "source": [
    "a = 234; print(type(a))"
   ]
  },
  {
   "cell_type": "code",
   "execution_count": 81,
   "metadata": {},
   "outputs": [
    {
     "name": "stdout",
     "output_type": "stream",
     "text": [
      "<class 'float'>\n"
     ]
    }
   ],
   "source": [
    "a = 6/3; print(type(a))"
   ]
  },
  {
   "cell_type": "code",
   "execution_count": 82,
   "metadata": {},
   "outputs": [
    {
     "name": "stdout",
     "output_type": "stream",
     "text": [
      "<class 'int'>\n"
     ]
    }
   ],
   "source": [
    "a = 6 - 4; print(type(a))"
   ]
  },
  {
   "cell_type": "code",
   "execution_count": 83,
   "metadata": {},
   "outputs": [
    {
     "name": "stdout",
     "output_type": "stream",
     "text": [
      "<class 'float'>\n"
     ]
    }
   ],
   "source": [
    "a = 6-5.0; print(type(a))"
   ]
  },
  {
   "cell_type": "code",
   "execution_count": 84,
   "metadata": {},
   "outputs": [
    {
     "name": "stdout",
     "output_type": "stream",
     "text": [
      "<class 'tuple'>\n"
     ]
    }
   ],
   "source": [
    "a = (); print(type(a))"
   ]
  },
  {
   "cell_type": "code",
   "execution_count": 85,
   "metadata": {},
   "outputs": [
    {
     "name": "stdout",
     "output_type": "stream",
     "text": [
      "<class 'dict'>\n"
     ]
    }
   ],
   "source": [
    "a = {}; print(type(a))"
   ]
  },
  {
   "cell_type": "code",
   "execution_count": 86,
   "metadata": {},
   "outputs": [
    {
     "name": "stdout",
     "output_type": "stream",
     "text": [
      "<class 'list'>\n"
     ]
    }
   ],
   "source": [
    "a = []; print(type(a))"
   ]
  },
  {
   "cell_type": "code",
   "execution_count": 87,
   "metadata": {},
   "outputs": [
    {
     "name": "stdout",
     "output_type": "stream",
     "text": [
      "<class 'int'>\n"
     ]
    }
   ],
   "source": [
    "a = (1); print(type(a))"
   ]
  },
  {
   "cell_type": "code",
   "execution_count": 88,
   "metadata": {},
   "outputs": [
    {
     "name": "stdout",
     "output_type": "stream",
     "text": [
      "<class 'tuple'>\n"
     ]
    }
   ],
   "source": [
    "a = (1,); print(type(a))"
   ]
  },
  {
   "cell_type": "code",
   "execution_count": 89,
   "metadata": {},
   "outputs": [
    {
     "name": "stdout",
     "output_type": "stream",
     "text": [
      "<class 'tuple'>\n"
     ]
    }
   ],
   "source": [
    "a = (1,2,3); print(type(a))"
   ]
  },
  {
   "cell_type": "code",
   "execution_count": 90,
   "metadata": {},
   "outputs": [
    {
     "name": "stdout",
     "output_type": "stream",
     "text": [
      "<class 'tuple'>\n"
     ]
    }
   ],
   "source": [
    "a = 1,2; print(type(a))"
   ]
  },
  {
   "cell_type": "code",
   "execution_count": 91,
   "metadata": {},
   "outputs": [
    {
     "name": "stdout",
     "output_type": "stream",
     "text": [
      "<class 'tuple'>\n"
     ]
    }
   ],
   "source": [
    "ab = 1,2; print(type(a))"
   ]
  },
  {
   "cell_type": "code",
   "execution_count": 92,
   "metadata": {},
   "outputs": [
    {
     "name": "stdout",
     "output_type": "stream",
     "text": [
      "<class 'list'>\n"
     ]
    }
   ],
   "source": [
    "a = [1,2,3]; print(type(a))"
   ]
  },
  {
   "cell_type": "code",
   "execution_count": 93,
   "metadata": {},
   "outputs": [
    {
     "name": "stdout",
     "output_type": "stream",
     "text": [
      "<class 'dict'>\n"
     ]
    }
   ],
   "source": [
    "a = {1:1,2:2,3:3}; print(type(a))"
   ]
  },
  {
   "cell_type": "code",
   "execution_count": 94,
   "metadata": {},
   "outputs": [
    {
     "name": "stdout",
     "output_type": "stream",
     "text": [
      "<class 'set'>\n"
     ]
    }
   ],
   "source": [
    "a = {1,2,3}; print(type(a))"
   ]
  },
  {
   "cell_type": "code",
   "execution_count": 95,
   "metadata": {},
   "outputs": [
    {
     "name": "stdout",
     "output_type": "stream",
     "text": [
      "<class 'int'>\n"
     ]
    }
   ],
   "source": [
    "a = 6**3; print(type(a))"
   ]
  },
  {
   "cell_type": "code",
   "execution_count": 96,
   "metadata": {},
   "outputs": [
    {
     "name": "stdout",
     "output_type": "stream",
     "text": [
      "<class 'int'>\n"
     ]
    }
   ],
   "source": [
    "a = (2**3)**2; print(type(a))"
   ]
  },
  {
   "cell_type": "code",
   "execution_count": 97,
   "metadata": {},
   "outputs": [
    {
     "name": "stdout",
     "output_type": "stream",
     "text": [
      "1\n"
     ]
    }
   ],
   "source": [
    "a = 10 % 3; print(a)"
   ]
  },
  {
   "cell_type": "code",
   "execution_count": 98,
   "metadata": {},
   "outputs": [
    {
     "name": "stdout",
     "output_type": "stream",
     "text": [
      "3\n"
     ]
    }
   ],
   "source": [
    "a = 10//3; print(a)"
   ]
  },
  {
   "cell_type": "code",
   "execution_count": 99,
   "metadata": {},
   "outputs": [
    {
     "name": "stdout",
     "output_type": "stream",
     "text": [
      "0\n"
     ]
    }
   ],
   "source": [
    "a = 6 //7; print(a)"
   ]
  },
  {
   "cell_type": "code",
   "execution_count": 100,
   "metadata": {},
   "outputs": [
    {
     "name": "stdout",
     "output_type": "stream",
     "text": [
      "3\n"
     ]
    }
   ],
   "source": [
    "a = 100 // 3 % 10; print(a)"
   ]
  },
  {
   "cell_type": "code",
   "execution_count": 101,
   "metadata": {},
   "outputs": [
    {
     "name": "stdout",
     "output_type": "stream",
     "text": [
      "6\n"
     ]
    }
   ],
   "source": [
    "a = 6 % 8; print(a)"
   ]
  },
  {
   "cell_type": "code",
   "execution_count": 102,
   "metadata": {},
   "outputs": [
    {
     "name": "stdout",
     "output_type": "stream",
     "text": [
      "3.5\n"
     ]
    }
   ],
   "source": [
    "a = 3; a += 0.5; print(a)"
   ]
  },
  {
   "cell_type": "code",
   "execution_count": 103,
   "metadata": {},
   "outputs": [
    {
     "name": "stdout",
     "output_type": "stream",
     "text": [
      "2.5\n"
     ]
    }
   ],
   "source": [
    "a = 3; a -= 0.5; print(a)"
   ]
  },
  {
   "cell_type": "code",
   "execution_count": 104,
   "metadata": {},
   "outputs": [
    {
     "name": "stdout",
     "output_type": "stream",
     "text": [
      "1.5\n"
     ]
    }
   ],
   "source": [
    "a = 3; a *= 0.5; print(a)"
   ]
  },
  {
   "cell_type": "code",
   "execution_count": 105,
   "metadata": {},
   "outputs": [
    {
     "name": "stdout",
     "output_type": "stream",
     "text": [
      "0\n"
     ]
    }
   ],
   "source": [
    "a = 30; a %= 10; print(a)"
   ]
  },
  {
   "cell_type": "code",
   "execution_count": 106,
   "metadata": {},
   "outputs": [
    {
     "name": "stdout",
     "output_type": "stream",
     "text": [
      "4\n"
     ]
    }
   ],
   "source": [
    "a = 30; a //= 7; print(a)"
   ]
  },
  {
   "cell_type": "code",
   "execution_count": 107,
   "metadata": {},
   "outputs": [
    {
     "name": "stdout",
     "output_type": "stream",
     "text": [
      "900\n"
     ]
    }
   ],
   "source": [
    "a = 30; a **= 2; print(a)"
   ]
  },
  {
   "cell_type": "code",
   "execution_count": 108,
   "metadata": {},
   "outputs": [
    {
     "name": "stdout",
     "output_type": "stream",
     "text": [
      "PythonPythonPython\n"
     ]
    }
   ],
   "source": [
    "a = \"Python\"; a *= 3; print(a)"
   ]
  },
  {
   "cell_type": "code",
   "execution_count": 109,
   "metadata": {},
   "outputs": [
    {
     "name": "stdout",
     "output_type": "stream",
     "text": [
      "Python\n"
     ]
    }
   ],
   "source": [
    "a = \"Python\"; a + \"is the best.\"; print(a)"
   ]
  },
  {
   "cell_type": "code",
   "execution_count": 110,
   "metadata": {},
   "outputs": [
    {
     "name": "stdout",
     "output_type": "stream",
     "text": [
      "Python is the best.\n",
      "Phhn\n",
      "Python\n",
      "Pytho\n",
      "tho\n"
     ]
    }
   ],
   "source": [
    "a = \"Python\"; a = a + \" is the best.\"; print(a)\n",
    "a = \"Python\"; a = a[0] + 2*a[3] + a[-1]; print(a)\n",
    "a = \"Python\"; a = a[:]; print(a)\n",
    "a = \"Python\"; a = a[0:-1]; print(a)\n",
    "a = \"Python\"; a = a[2:5]; print(a)"
   ]
  },
  {
   "cell_type": "code",
   "execution_count": 111,
   "metadata": {},
   "outputs": [
    {
     "name": "stdout",
     "output_type": "stream",
     "text": [
      "thon\n",
      "Pyt\n",
      "\n",
      "Python3.6\n"
     ]
    }
   ],
   "source": [
    "\n",
    "a = \"Python\"; a = a[2:]; print(a)\n",
    "a = \"Python\"; a = a[:3]; print(a)\n",
    "a = \"Python\"; a = a[2:0]; print(a)\n",
    "a = \"Python\"; a = a + str(3.6); print(a)"
   ]
  },
  {
   "cell_type": "code",
   "execution_count": 112,
   "metadata": {},
   "outputs": [
    {
     "name": "stdout",
     "output_type": "stream",
     "text": [
      "i eat 3 apples\n",
      "i eat 3.99 apples\n",
      "i eat 0 apples\n",
      "i eat 3+3 apples\n"
     ]
    }
   ],
   "source": [
    "n = 3; a = f\"i eat {n} apples\"; print(a)\n",
    "n = 3.99; a = f\"i eat {n} apples\"; print(a)\n",
    "n = 3.99; a = f\"i eat {0} apples\"; print(a)\n",
    "n = 3; a = f\"i eat {n}+{n} apples\"; print(a)"
   ]
  },
  {
   "cell_type": "code",
   "execution_count": 113,
   "metadata": {},
   "outputs": [
    {
     "name": "stdout",
     "output_type": "stream",
     "text": [
      "i eat 6 apples\n",
      "i eat 9 apples\n",
      "i eat 9 apples\n",
      "i eat 9 apples\n"
     ]
    }
   ],
   "source": [
    "\n",
    "n = 3; a = f\"i eat {n+n} apples\"; print(a)\n",
    "n = 3; a = f\"i eat {n**2} apples\"; print(a)\n",
    "n = 3; a = f\"i eat {n+n+n} apples\"; print(a)\n",
    "n = 3; a = f\"i eat {n*3} apples\"; print(a)\n"
   ]
  },
  {
   "cell_type": "code",
   "execution_count": 114,
   "metadata": {},
   "outputs": [
    {
     "name": "stdout",
     "output_type": "stream",
     "text": [
      "3\n",
      "Hobby is good\n",
      "3\n",
      "3\n",
      "1\n",
      "1\n"
     ]
    }
   ],
   "source": [
    "a = \"Hobby is good\"; a = a.count(\"o\"); print(a)\n",
    "a = \"Hobby is good\"; a.count(\"o\"); print(a)\n",
    "a = \"Hobby is good\"; a = a.count(\"o\"); print(a)\n",
    "a = \"Hobby is good\"; a = print(a.count(\"o\"))\n",
    "a = \"Hobby is good\"; a = print(a.count(a))\n",
    "a = \"Hobby is good\"; a = print(a.find(\"o\"))"
   ]
  },
  {
   "cell_type": "code",
   "execution_count": 115,
   "metadata": {},
   "outputs": [
    {
     "name": "stdout",
     "output_type": "stream",
     "text": [
      "9\n",
      "5\n",
      "8\n",
      "-1\n",
      "9\n"
     ]
    }
   ],
   "source": [
    "\n",
    "a = \"Hobby is good\"; a = print(a.find(\"g\"))\n",
    "a = \"Hobby is good\"; a = print(a.find(\" \"))\n",
    "a = \"Hobby is good\"; a = print(a.find(\" g\"))\n",
    "a = \"Hobby is good\"; a = print(a.find(\"k\"))\n",
    "a = \"Hobby is good\"; a = print(a.index(\"g\"))\n"
   ]
  },
  {
   "cell_type": "code",
   "execution_count": 116,
   "metadata": {},
   "outputs": [
    {
     "name": "stdout",
     "output_type": "stream",
     "text": [
      "Python\n",
      ",Python,Python,Python,\n",
      "Python\n",
      "Python\n",
      "P,y,t,h,o,n\n",
      "PYTHON\n",
      "python\n"
     ]
    }
   ],
   "source": [
    "a = \"Python\"; a.join(\",\"); print(a)\n",
    "a = \"Python\"; print(a.join(',,,,'))\n",
    "a = \"Python\"; \",\".join(a); print(a)\n",
    "a = \"Python\"; ','.join(a); print(a)\n",
    "a = \"Python\"; a = \",\".join(a); print(a)\n",
    "a = \"Python\"; print(a.upper())\n",
    "a = \"Python\"; print(a.lower())"
   ]
  },
  {
   "cell_type": "code",
   "execution_count": 117,
   "metadata": {},
   "outputs": [
    {
     "name": "stdout",
     "output_type": "stream",
     "text": [
      "Python\n",
      "Tython\n",
      "Python\n",
      "Python\n",
      "['Python']\n",
      "['Py', 'hon']\n"
     ]
    }
   ],
   "source": [
    "a = \"Python\"; a.replace(\"P\",\"T\"); print(a)\n",
    "a = \"Python\"; a = a.replace(\"P\",\"T\"); print(a)\n",
    "a = \"Python\"; a = a.replace(\"T\",\"P\"); print(a)\n",
    "a = \"P,y,t,h,o,n\"; a = a.replace(\",\",\"\"); print(a)\n",
    "a = \"Python\"; a = a.split(\",\"); print(a)\n",
    "a = \"Python\"; a = a.split(\"t\"); print(a)"
   ]
  },
  {
   "cell_type": "code",
   "execution_count": 118,
   "metadata": {},
   "outputs": [
    {
     "name": "stdout",
     "output_type": "stream",
     "text": [
      "['P', 'y', 't', 'h', 'o', 'n']\n",
      "['P', 'y', 't', 'h', 'o', 'n']\n",
      "['P', 'y', 't', 'h', 'o', 'n']\n",
      "['P y t h o n']\n",
      "['P', 'y', 't', 'h', 'o', 'n']\n"
     ]
    }
   ],
   "source": [
    "\n",
    "\n",
    "a = \"P,y,t,h,o,n\"; a = a.split(\",\"); print(a)\n",
    "a = \"P y t h o n\"; a = a.split(); print(a)\n",
    "a = \"P y t h o n\"; a = a.split(\" \"); print(a)\n",
    "a = \"P y t h o n\"; a = a.split(\",\"); print(a)\n",
    "a = \"Python\"; a = \",\".join(a).split(\",\"); print(a)\n"
   ]
  },
  {
   "cell_type": "code",
   "execution_count": 119,
   "metadata": {},
   "outputs": [
    {
     "name": "stdout",
     "output_type": "stream",
     "text": [
      "[1, 2, ['Life', 'is']]\n",
      "1\n",
      "[1]\n",
      "is\n",
      "['Life', 'is']\n",
      "s\n"
     ]
    }
   ],
   "source": [
    "a = [1,2,['Life','is']]; print(a)\n",
    "a = [1,2,['Life','is']]; print(a[0])\n",
    "a = [1,2,['Life','is']]; print(a[:1])\n",
    "a = [1,2,['Life','is']]; print(a[2][1])\n",
    "a = [1,2,['Life','is']]; print(a[1:3][1])\n",
    "a = [1,2,['Life','is']]; print(a[-1][1][-1])"
   ]
  },
  {
   "cell_type": "code",
   "execution_count": 120,
   "metadata": {},
   "outputs": [
    {
     "name": "stdout",
     "output_type": "stream",
     "text": [
      "['Life', 'is']\n",
      "<class 'list'>\n",
      "<class 'int'>\n",
      "<class 'list'>\n",
      "<class 'str'>\n"
     ]
    }
   ],
   "source": [
    "a = [1,2,['Life','is']]; print(a[2][:])\n",
    "a = [1,2,['Life','is']]; print(type(a))\n",
    "a = [1,2,['Life','is']]; print(type(a[0]))\n",
    "a = [1,2,['Life','is']]; print(type(a[:1]))\n",
    "a = [1,2,['Life','is']]; print(type(a[2][1]))"
   ]
  },
  {
   "cell_type": "code",
   "execution_count": 121,
   "metadata": {},
   "outputs": [
    {
     "name": "stdout",
     "output_type": "stream",
     "text": [
      "<class 'list'>\n",
      "<class 'str'>\n",
      "<class 'list'>\n"
     ]
    }
   ],
   "source": [
    "\n",
    "\n",
    "a = [1,2,['Life','is']]; print(type(a[1:3][1]))\n",
    "a = [1,2,['Life','is']]; print(type(a[-1][1][-1]))\n",
    "a = [1,2,['Life','is']]; print(type(a[2][:]))\n",
    "\n"
   ]
  },
  {
   "cell_type": "code",
   "execution_count": 122,
   "metadata": {},
   "outputs": [
    {
     "name": "stdout",
     "output_type": "stream",
     "text": [
      "[1, 2, 3, 4]\n",
      "[1, 2, 1, 2, 1, 2]\n",
      "[1, 2, 3, 4, 1, 2, 3, 4]\n",
      "[1, 2]\n",
      "4\n"
     ]
    }
   ],
   "source": [
    "a = [1,2]; b = [3,4]; print(a+b)\n",
    "a = [1,2]; b = [3,4]; print(3*a)\n",
    "a = [1,2]; b = [3,4]; print((a+b)*2)\n",
    "a = [1,2]; b = [3,4]; print(str(a))\n",
    "a = [1,2]; b = [3,4]; print(len(a+b))"
   ]
  },
  {
   "cell_type": "code",
   "execution_count": 123,
   "metadata": {},
   "outputs": [
    {
     "name": "stdout",
     "output_type": "stream",
     "text": [
      "[[3, 4], 2]\n",
      "[[], 2]\n",
      "[2]\n",
      "[1, 2, 3, 4]\n"
     ]
    }
   ],
   "source": [
    "a = [1,2]; b = [3,4]; a[0] = b; print(a)\n",
    "a = [1,2]; b = [3,4]; a[0] = []; print(a)\n",
    "a = [1,2]; b = [3,4]; del a[0]; print(a)\n",
    "a = [1,2]; b = [3,4]; a[0:1]; print(a+b)"
   ]
  },
  {
   "cell_type": "code",
   "execution_count": 124,
   "metadata": {},
   "outputs": [
    {
     "name": "stdout",
     "output_type": "stream",
     "text": [
      "[2, 3, 4]\n",
      "[2]\n",
      "[1, 2, [3, 4]]\n",
      "[1, 2, 'b']\n"
     ]
    }
   ],
   "source": [
    "\n",
    "a = [1,2]; b = [3,4]; a[0:1] = []; print(a+b)\n",
    "a = [1,2]; b = [3,4]; del a[0:1]; print(a)\n",
    "a = [1,2]; b = [3,4]; a.append(b); print(a)\n",
    "a = [1,2]; b = [3,4]; a.append(\"b\"); print(a)\n",
    "\n"
   ]
  },
  {
   "cell_type": "code",
   "execution_count": 125,
   "metadata": {},
   "outputs": [
    {
     "name": "stdout",
     "output_type": "stream",
     "text": [
      "[1, 3, 4, 4]\n",
      "None\n",
      "[4, 4, 3, 1]\n",
      "[4, 3, 4, 1]\n",
      "None\n",
      "2\n"
     ]
    }
   ],
   "source": [
    "a = [1,4,3,4]; a.sort(); print(a)\n",
    "a = [1,4,3,4]; b = a.sort(); print(b)\n",
    "a = [1,4,3,4]; a.sort(reverse=True); print(a)\n",
    "a = [1,4,3,4]; a.reverse(); print(a)\n",
    "a = [1,4,3,4]; b = a.reverse(); print(b)\n",
    "a = [1,4,3,4]; b = a.index(3); print(b) "
   ]
  },
  {
   "cell_type": "code",
   "execution_count": 126,
   "metadata": {},
   "outputs": [
    {
     "name": "stdout",
     "output_type": "stream",
     "text": [
      "[1, 4, 3, 4]\n",
      "[1, 4, 3, 5, 4]\n",
      "[1, 4, 3, [5, 6, 7], 4]\n",
      "[1, 4, 4]\n",
      "[1, 3, 4]\n"
     ]
    }
   ],
   "source": [
    "\n",
    "a = [1,4,3,4]; a.index(3); print(a) \n",
    "a = [1,4,3,4]; a.insert(3,5); print(a) \n",
    "a = [1,4,3,4]; a.insert(3,[5,6,7]); print(a) \n",
    "a = [1,4,3,4]; a.remove(3); print(a) \n",
    "a = [1,4,3,4]; a.remove(4); print(a)"
   ]
  },
  {
   "cell_type": "code",
   "execution_count": 127,
   "metadata": {},
   "outputs": [
    {
     "name": "stdout",
     "output_type": "stream",
     "text": [
      "[1, 2, 3]\n",
      "4\n",
      "[1, 2, 4]\n",
      "3\n"
     ]
    }
   ],
   "source": [
    "a = [1,2,3,4]; b = a.pop(); print(a) \n",
    "a = [1,2,3,4]; b = a.pop(); print(b) \n",
    "a = [1,2,3,4]; b = a.pop(2); print(a) \n",
    "a = [1,2,3,4]; b = a.pop(2); print(b) "
   ]
  },
  {
   "cell_type": "code",
   "execution_count": 128,
   "metadata": {},
   "outputs": [
    {
     "name": "stdout",
     "output_type": "stream",
     "text": [
      "0\n",
      "1\n",
      "[1, 2, 3]\n",
      "4\n"
     ]
    }
   ],
   "source": [
    "\n",
    "a = [1,2,3,4]; b = a.count(0); print(b) \n",
    "a = [1,2,3,4]; b = a.count(4); print(b) \n",
    "a = [1,2,3,4]; b = a.pop(); print(a) \n",
    "a = [1,2,3,4]; b = a.pop(); print(b) "
   ]
  },
  {
   "cell_type": "code",
   "execution_count": 129,
   "metadata": {},
   "outputs": [
    {
     "name": "stdout",
     "output_type": "stream",
     "text": [
      "[1, 2, 3, 4]\n",
      "[1, 2, 3, 4, 3, 4]\n",
      "[1, 2, 3, 4]\n",
      "[1, 2, 1, 2, 3, 4]\n"
     ]
    }
   ],
   "source": [
    "a = [1,2]; b = [3,4]; a.extend(b); print(a) \n",
    "a = [1,2]; b = [3,4]; a.extend(b+b); print(a) \n",
    "a = [1,2]; b=[3,4]; a += b; print(a) \n",
    "a = [1,2]; b= [3,4]; a += a+b; print(a) "
   ]
  },
  {
   "cell_type": "code",
   "execution_count": 130,
   "metadata": {},
   "outputs": [
    {
     "name": "stdout",
     "output_type": "stream",
     "text": [
      "4\n",
      "4\n",
      "3\n",
      "4\n"
     ]
    }
   ],
   "source": [
    "a = [1,2,3,4]; print(len(a))\n",
    "a =(1,2,3,4); print(len(a)) \n",
    "a = (1,(2,3),4); print(len(a)) \n",
    "a = 1,2,3,4; print(len(a))"
   ]
  },
  {
   "cell_type": "code",
   "execution_count": 131,
   "metadata": {},
   "outputs": [
    {
     "name": "stdout",
     "output_type": "stream",
     "text": [
      "(1, 2, 1, 2, 3, 4)\n",
      "(1, 2, 3, 4)\n",
      "(1, 2, 1, 2, 1, 2)\n",
      "(1, 2, 3, 4, 1, 2, 3, 4)\n"
     ]
    }
   ],
   "source": [
    "a = (1,2); b = (3,4); a += a+b; print(a) \n",
    "a = (1,2); b = (3,4); print(a+b) \n",
    "a = (1,2); b = (3,4); print(3*a) \n",
    "a = (1,2); b = (3,4); print((a+b)*2)"
   ]
  },
  {
   "cell_type": "code",
   "execution_count": 132,
   "metadata": {},
   "outputs": [
    {
     "name": "stdout",
     "output_type": "stream",
     "text": [
      "(1, 2)\n",
      "4\n",
      "(3, 4)\n",
      "3\n"
     ]
    }
   ],
   "source": [
    "\n",
    "a = (1,2); b = (3,4); print(str(a)) \n",
    "a = (1,2); b = (3,4); print(len(a+b))\n",
    "a = (1,2); b = (3,4); a = b; print(a) \n",
    "a = (1,2); b = (3,4); a = b[0]; print(a) "
   ]
  },
  {
   "cell_type": "code",
   "execution_count": 133,
   "metadata": {},
   "outputs": [
    {
     "name": "stdout",
     "output_type": "stream",
     "text": [
      "(1, 2, 3)\n",
      "1\n",
      "<class 'tuple'>\n"
     ]
    }
   ],
   "source": [
    "a = (1,2,3,4); b = a[0:3]; print(b) \n",
    "a = (1,2,3,4); b = a[0]; print(b) \n",
    "a = (1,2,3,4); b = a[0:3]; print(type(b)) "
   ]
  },
  {
   "cell_type": "code",
   "execution_count": 134,
   "metadata": {},
   "outputs": [
    {
     "name": "stdout",
     "output_type": "stream",
     "text": [
      "(1, 2, 3, 4, 5)\n",
      "(1, 2, 3, 4, 1, 2, 3, 4)\n",
      "(3, 1, 2)\n",
      "(3, 2, 1)\n"
     ]
    }
   ],
   "source": [
    "\n",
    "a = (1,2,3,4); a += (5,); print(a) \n",
    "a = (1,2,3,4); a *=2; print(a)\n",
    "a,b,c = 1,2,3; print((c,a,b)) \n",
    "a,b,c=1,2,3; c,b,a= a,b,c; d = a,b,c; print(d) "
   ]
  },
  {
   "cell_type": "code",
   "execution_count": 135,
   "metadata": {},
   "outputs": [
    {
     "name": "stdout",
     "output_type": "stream",
     "text": [
      "{0: 'a', 1: 'b', 2: 'c'}\n",
      "{0: 'a', 1: 'd', '2': 'c'}\n",
      "c\n",
      "<class 'str'>\n",
      "[0, 1, '2']\n"
     ]
    }
   ],
   "source": [
    "a = {0:\"a\"}; a[1] = \"b\"; a[2] = \"c\"; print(a)\n",
    "a = {0:\"a\", 1:\"b\", \"2\":\"c\"}; a[1] =\"d\"; print(a)\n",
    "a = {0:\"a\", 1:\"b\", \"2\":\"c\"}; print(a[\"2\"]) \n",
    "a = {0:\"a\", 1:\"b\", \"2\":\"c\"}; print(type(a[\"2\"])) \n",
    "a = {0:\"a\", 1:\"b\", \"2\":\"c\"}; print(list(a.keys()))"
   ]
  },
  {
   "cell_type": "code",
   "execution_count": 136,
   "metadata": {},
   "outputs": [
    {
     "name": "stdout",
     "output_type": "stream",
     "text": [
      "['a', 'b', 'c']\n",
      "a\n",
      "('a', 'b', 'c')\n",
      "((0, 'a'), (1, 'b'), ('2', 'c'))\n"
     ]
    }
   ],
   "source": [
    "\n",
    "a = {0:\"a\", 1:\"b\", \"2\":\"c\"}; print(list(a.values())) \n",
    "a = {0:\"a\", 1:\"b\", \"2\":\"c\"}; print(min(a.values()))\n",
    "a = {0:\"a\", 1:\"b\", \"2\":\"c\"}; print(tuple(a.values()))\n",
    "a = {0:\"a\", 1:\"b\", \"2\":\"c\"}; print(tuple(a.items()))"
   ]
  },
  {
   "cell_type": "code",
   "execution_count": 137,
   "metadata": {},
   "outputs": [
    {
     "name": "stdout",
     "output_type": "stream",
     "text": [
      "None\n",
      "b\n",
      "None\n",
      "a\n"
     ]
    }
   ],
   "source": [
    "a = {0:\"a\", 1:\"b\", \"2\":\"c\"}; print(a.clear())\n",
    "a = {0:\"a\", 1:\"b\", \"2\":\"c\"}; print(a.get(1)) \n",
    "a = {0:\"a\", 1:\"b\", \"2\":\"c\"}; print(a.get(\"c\")) \n",
    "a = {0:\"a\", 1:\"b\", \"2\":\"c\"}; print(a.get(0,\"bar\")) "
   ]
  },
  {
   "cell_type": "code",
   "execution_count": 138,
   "metadata": {},
   "outputs": [
    {
     "name": "stdout",
     "output_type": "stream",
     "text": [
      "bar\n",
      "False\n",
      "True\n"
     ]
    }
   ],
   "source": [
    "\n",
    "a = {0:\"a\", 1:\"b\", \"2\":\"c\"}; print(a.get(\"c\",\"bar\")) \n",
    "a = {0:\"a\", 1:\"b\", \"2\":\"c\"}; print(\"a\" in a) \n",
    "a = {0:\"a\", 1:\"b\", \"2\":\"c\"}; print(0 in a)"
   ]
  },
  {
   "cell_type": "code",
   "execution_count": 139,
   "metadata": {},
   "outputs": [
    {
     "name": "stdout",
     "output_type": "stream",
     "text": [
      "{7: 'a', 1: 'b', '2': 'c'}\n",
      "{7.65: 'a', (1,): 'b', '2': 'c'}\n",
      "{'': 'a', (1, 3): 'b', '2': 'c'}\n",
      "{(1, 3): 'b', '2': 'c'}\n",
      "{'': 'a', '2': 'c'}\n"
     ]
    }
   ],
   "source": [
    "a = {7:\"a\", (1):\"b\", \"2\":\"c\"}; print(a)\n",
    "a = {7.65:\"a\", (1,):\"b\", \"2\":\"c\"}; print(a)\n",
    "a = {\"\":\"a\", (1,3):\"b\", \"2\":\"c\"}; print(a)\n",
    "a = {\"\":\"a\", (1,3):\"b\", \"2\":\"c\"}; del a[\"\"]; print(a)\n",
    "a = {\"\":\"a\", (1,3):\"b\", \"2\":\"c\"}; del a[(1,3)]; print(a) "
   ]
  },
  {
   "cell_type": "code",
   "execution_count": 140,
   "metadata": {},
   "outputs": [
    {
     "name": "stdout",
     "output_type": "stream",
     "text": [
      "{1, 2, 3}\n",
      "<class 'set'>\n",
      "[1, 2, 3]\n",
      "{1, 2, 3}\n",
      "[1, 2, 3]\n",
      "{1, 2, 3}\n",
      "{1, 2, 3}\n"
     ]
    }
   ],
   "source": [
    "a = {1,2,3,1,2,3}; print(a) \n",
    "a = {1,2,3,1,2,3}; print(type(a))\n",
    "a = {1,2,3,1,2,3}; print(list(a))\n",
    "a = [1,2,3,1,2,3]; print(set(a)) \n",
    "a = [1,2,3,1,2,3]; print(list(set(a)))\n",
    "a = {1,2,3,1,2,3}; print(a & a) \n",
    "a = {1,2,3,1,2,3}; print(a | a)"
   ]
  },
  {
   "cell_type": "code",
   "execution_count": 141,
   "metadata": {},
   "outputs": [
    {
     "name": "stdout",
     "output_type": "stream",
     "text": [
      "{1, 2}\n",
      "{1, 2, 3, 4}\n",
      "{1, 2, 3}\n",
      "{1, 2, 4}\n",
      "{1, 2, 3}\n"
     ]
    }
   ],
   "source": [
    "a ={1,2,3}; b ={1,2,4}; print(a & b) \n",
    "a ={1,2,3}; b ={1,2,4}; print(a | b) \n",
    "a ={1,2,3}; b ={1,2,4}; a.intersection(b); print(a) \n",
    "a ={1,2,3}; b ={1,2,4}; a.intersection(b); print(b) \n",
    "a ={1,2,3}; b ={1,2,4}; a.union(b); print(a) "
   ]
  },
  {
   "cell_type": "code",
   "execution_count": 142,
   "metadata": {},
   "outputs": [
    {
     "name": "stdout",
     "output_type": "stream",
     "text": [
      "{1, 2, 4}\n",
      "{1, 2, 3}\n",
      "{1, 2, 4}\n",
      "{3}\n",
      "{4}\n"
     ]
    }
   ],
   "source": [
    "\n",
    "a ={1,2,3}; b ={1,2,4}; a.union(b); print(b) \n",
    "a ={1,2,3}; b ={1,2,4}; a.difference(b); print(a) \n",
    "a ={1,2,3}; b ={1,2,4}; a.difference(b); print(b) \n",
    "a ={1,2,3}; b ={1,2,4}; print(a - b) \n",
    "a ={1,2,3}; b ={1,2,4}; print(b - a) "
   ]
  },
  {
   "cell_type": "code",
   "execution_count": 143,
   "metadata": {},
   "outputs": [
    {
     "name": "stdout",
     "output_type": "stream",
     "text": [
      "{1, 2, 3}\n",
      "{1, 2, 3, (3, 4)}\n",
      "{1, 2, 3}\n",
      "{1, 2, 3, 4}\n",
      "{1, 2, 3, 4}\n"
     ]
    }
   ],
   "source": [
    "a ={1,2,3}; a.add(3); print(a) \n",
    "a ={1,2,3}; a.add((3,4)); print(a) \n",
    "a ={1,2,3}; a.update({}); print(a) \n",
    "a ={1,2,3}; a.update({3,4}); print(a) \n",
    "a ={1,2,3}; a.update([3,4]); print(a) "
   ]
  },
  {
   "cell_type": "code",
   "execution_count": 144,
   "metadata": {},
   "outputs": [
    {
     "name": "stdout",
     "output_type": "stream",
     "text": [
      "{1, 2}\n",
      "{1, 2}\n",
      "True\n",
      "<class 'set'>\n",
      "True\n"
     ]
    }
   ],
   "source": [
    "a = {1,2,3,1,2,3}; a.remove(3); print(a) \n",
    "a = {1,2,3}; a.remove(3); print(a) \n",
    "a = [1,2,3,1,2,3]; print(bool(a)) \n",
    "a = [1,2,3,1,2,3]; print(type(set(a)))\n",
    "a = [1,2,3]; print(1 in a) "
   ]
  },
  {
   "cell_type": "code",
   "execution_count": 145,
   "metadata": {},
   "outputs": [
    {
     "name": "stdout",
     "output_type": "stream",
     "text": [
      "True\n",
      "False\n",
      "False\n",
      "False\n",
      "True\n",
      "False\n",
      "True\n",
      "False\n"
     ]
    }
   ],
   "source": [
    "a = -1000; print(bool(a)) \n",
    "a = None; print(bool(a))\n",
    "a = []; print(bool(a)) \n",
    "a = (); print(bool(a))\n",
    "a = (); print(not bool(a)) \n",
    "a = 10; print(bool(a) == False)\n",
    "a = \"\"; print(bool(a) == False)\n",
    "a = 10; print(a == True)"
   ]
  },
  {
   "cell_type": "code",
   "execution_count": 146,
   "metadata": {},
   "outputs": [
    {
     "name": "stdout",
     "output_type": "stream",
     "text": [
      "False\n",
      "True\n",
      "False\n",
      "True\n",
      "True\n",
      "True\n",
      "False\n",
      "False\n"
     ]
    }
   ],
   "source": [
    "print(True and False) \n",
    "print(True and not False) \n",
    "print(False and not False and True or False and not True) \n",
    "print(True or not False and True or False and not True) \n",
    "print(True and not False) \n",
    "print(not True or not False) \n",
    "print(not True or False) \n",
    "print(not True and not False) "
   ]
  },
  {
   "cell_type": "code",
   "execution_count": 147,
   "metadata": {},
   "outputs": [
    {
     "name": "stdout",
     "output_type": "stream",
     "text": [
      "True\n",
      "True\n",
      "True\n",
      "False\n",
      "True\n",
      "False\n",
      "False\n",
      "5\n",
      "range(3, 5)\n"
     ]
    }
   ],
   "source": [
    "print(10 == 10 and 12 != 10) \n",
    "a = 10; print(a > 1 and a <= 10) \n",
    "a = range(10); print(3 in a) \n",
    "a = range(10); print(10 in a) \n",
    "a = range(10); print(0 in a) \n",
    "a = range(10); print(9.9 in a) \n",
    "a = range(5,10); print(4 in a) \n",
    "a = range(10); print(a[5])\n",
    "a = range(10); print(a[3:5])"
   ]
  },
  {
   "cell_type": "code",
   "execution_count": 148,
   "metadata": {},
   "outputs": [
    {
     "name": "stdout",
     "output_type": "stream",
     "text": [
      "True\n",
      "True\n",
      "True\n",
      "False\n",
      "False\n",
      "False\n",
      "True\n"
     ]
    }
   ],
   "source": [
    "a = 10; b = a; print(a is b) \n",
    "a = [1,2,3]; b = a; print(a is b) \n",
    "a = (1,2,3); b = a; print(a is b) \n",
    "a = [1,2,3]; b = a[:]; print(a is b) \n",
    "a = (1,2,3); b = a[:1]; print(a is b) \n",
    "a = [1,2,3]; b = a[:1]; print(id(a) == id(b)) \n",
    "a = [1,2,3]; b = a; print(id(a) == id(b))"
   ]
  },
  {
   "cell_type": "code",
   "execution_count": 149,
   "metadata": {},
   "outputs": [
    {
     "name": "stdout",
     "output_type": "stream",
     "text": [
      "True\n",
      "True\n",
      "False\n",
      "True\n",
      "True\n",
      "False\n"
     ]
    }
   ],
   "source": [
    "a = [1,2,3]; b = a; a[0]=4; print(a == b) \n",
    "a = (1,2,3); b = (1,2,3); print(a == b) \n",
    "a = (1,2,3); b = (1,2,3); print(a is b) \n",
    "a = [1,2,3]; a += a; print(a == a) \n",
    "a = [1,2,3]; b = a; a.append(4); print(a is b)\n",
    "a = [1,2,3]; b = a; a = a+b; print(a is b) "
   ]
  },
  {
   "cell_type": "code",
   "execution_count": 150,
   "metadata": {},
   "outputs": [
    {
     "name": "stdout",
     "output_type": "stream",
     "text": [
      "True\n",
      "True\n",
      "False\n"
     ]
    }
   ],
   "source": [
    "a = b = c =(1,2,3); print(a is b) \n",
    "a = b = c =(1,2,3); print(a == c) \n",
    "a = b = c =(1,2,3); print(a != b)"
   ]
  },
  {
   "cell_type": "code",
   "execution_count": 151,
   "metadata": {},
   "outputs": [],
   "source": [
    "num = 0\n",
    "if num: \n",
    "   print(num)"
   ]
  },
  {
   "cell_type": "markdown",
   "metadata": {},
   "source": [
    "이 코드는 아무 것도 출력하지 않습니다. 왜냐하면 if num: 조건에서 num이 0일 경우, 파이썬에서는 0을 거짓(False) 으로 간주하기 때문입니다.\n",
    "\n",
    "즉,\n",
    "if num: → if False: 와 같고,\n",
    "그래서 print(num)는 실행되지 않아요."
   ]
  },
  {
   "cell_type": "code",
   "execution_count": 152,
   "metadata": {},
   "outputs": [
    {
     "name": "stdout",
     "output_type": "stream",
     "text": [
      "10\n"
     ]
    }
   ],
   "source": [
    "num = 10\n",
    "if num: \n",
    "   print(num)"
   ]
  },
  {
   "cell_type": "code",
   "execution_count": 153,
   "metadata": {},
   "outputs": [
    {
     "name": "stdout",
     "output_type": "stream",
     "text": [
      "100\n"
     ]
    }
   ],
   "source": [
    "if True: \n",
    "   pass \n",
    "   print(100)"
   ]
  },
  {
   "cell_type": "code",
   "execution_count": 154,
   "metadata": {},
   "outputs": [
    {
     "name": "stdout",
     "output_type": "stream",
     "text": [
      "-100\n"
     ]
    }
   ],
   "source": [
    "num = 10 \n",
    "if num <= 5: \n",
    "   print(num) \n",
    "else: \n",
    "    print(-100)"
   ]
  },
  {
   "cell_type": "code",
   "execution_count": 155,
   "metadata": {},
   "outputs": [],
   "source": [
    "num = 10 \n",
    "if num >= 50: \n",
    "   print(num)\n",
    "elif num <= -50: \n",
    "   print(-num)"
   ]
  },
  {
   "cell_type": "code",
   "execution_count": 156,
   "metadata": {},
   "outputs": [
    {
     "name": "stdout",
     "output_type": "stream",
     "text": [
      "0\n"
     ]
    }
   ],
   "source": [
    "num = 10 \n",
    "if num >= 50: \n",
    "   print(num)\n",
    "elif num <= -50: \n",
    "   print(-num)\n",
    "else: \n",
    "   print(0)"
   ]
  },
  {
   "cell_type": "code",
   "execution_count": 157,
   "metadata": {},
   "outputs": [
    {
     "name": "stdout",
     "output_type": "stream",
     "text": [
      "A\n",
      "C\n",
      "even\n",
      "odd\n"
     ]
    }
   ],
   "source": [
    "num = 80; score = \"A\" if num >= 60 else \"C\"; print(score) \n",
    "num = 40; score = \"A\" if num >= 60 else \"C\"; print(score) \n",
    "num = 80; oe = \"even\" if num%2 == 0 else \"odd\"; print(oe)\n",
    "num = 23; oe = \"even\" if num%2 == 0 else \"odd\"; print(oe)"
   ]
  },
  {
   "cell_type": "code",
   "execution_count": 158,
   "metadata": {},
   "outputs": [
    {
     "name": "stdout",
     "output_type": "stream",
     "text": [
      "1\n",
      "3\n"
     ]
    }
   ],
   "source": [
    "a = 0 \n",
    "while a < 3: \n",
    "    a = a+1 \n",
    "    if a % 2 == 0: continue \n",
    "    print(a)"
   ]
  },
  {
   "cell_type": "code",
   "execution_count": 159,
   "metadata": {},
   "outputs": [],
   "source": [
    "a = 3\n",
    "while a < 3: \n",
    "    a = a+1 \n",
    "    print(a)"
   ]
  },
  {
   "cell_type": "code",
   "execution_count": 160,
   "metadata": {},
   "outputs": [
    {
     "name": "stdout",
     "output_type": "stream",
     "text": [
      "0\n",
      "1\n",
      "2\n"
     ]
    }
   ],
   "source": [
    "a = 0 \n",
    "while a < 3: \n",
    "    print(a)\n",
    "    a = a+1 "
   ]
  },
  {
   "cell_type": "code",
   "execution_count": 161,
   "metadata": {},
   "outputs": [
    {
     "name": "stdout",
     "output_type": "stream",
     "text": [
      "01234"
     ]
    }
   ],
   "source": [
    "a = 0 \n",
    "while a < 5: \n",
    "    print(a, end=\"\")\n",
    "    a = a+1 "
   ]
  },
  {
   "cell_type": "code",
   "execution_count": 162,
   "metadata": {},
   "outputs": [],
   "source": [
    "a = 0 \n",
    "while a < 5: \n",
    "    a = a+1 \n",
    "    continue\n",
    "    print(a)\n",
    "    "
   ]
  },
  {
   "cell_type": "code",
   "execution_count": 163,
   "metadata": {},
   "outputs": [],
   "source": [
    "a = 0 \n",
    "while a < 5: \n",
    "    a = a+1 \n",
    "    break\n",
    "    print(a)"
   ]
  },
  {
   "cell_type": "code",
   "execution_count": 164,
   "metadata": {},
   "outputs": [
    {
     "name": "stdout",
     "output_type": "stream",
     "text": [
      "248"
     ]
    }
   ],
   "source": [
    "a = 1\n",
    "while a < 5: \n",
    "    a *=2\n",
    "    print(a, end=\"\")"
   ]
  },
  {
   "cell_type": "code",
   "execution_count": 165,
   "metadata": {},
   "outputs": [
    {
     "name": "stdout",
     "output_type": "stream",
     "text": [
      "0\n",
      "1\n",
      "2\n"
     ]
    }
   ],
   "source": [
    "for i in range(3):\n",
    "     print(i)"
   ]
  },
  {
   "cell_type": "code",
   "execution_count": 166,
   "metadata": {},
   "outputs": [
    {
     "name": "stdout",
     "output_type": "stream",
     "text": [
      "1\n",
      "2\n"
     ]
    }
   ],
   "source": [
    "for i in range(1,3):\n",
    "     print(i)"
   ]
  },
  {
   "cell_type": "code",
   "execution_count": 167,
   "metadata": {},
   "outputs": [],
   "source": [
    "for i in range(5,1):\n",
    "     print(i)"
   ]
  },
  {
   "cell_type": "markdown",
   "metadata": {},
   "source": [
    "5에서 1보다 작아지도록 증가는 불가능하므로, 생성되는 숫자가 없습니다. 따라서 for 루프는 실행되지 않아요."
   ]
  },
  {
   "cell_type": "code",
   "execution_count": 168,
   "metadata": {},
   "outputs": [
    {
     "name": "stdout",
     "output_type": "stream",
     "text": [
      "5\n",
      "3\n"
     ]
    }
   ],
   "source": [
    "for i in range(5,1,-2):\n",
    "     print(i)"
   ]
  },
  {
   "cell_type": "code",
   "execution_count": 169,
   "metadata": {},
   "outputs": [
    {
     "name": "stdout",
     "output_type": "stream",
     "text": [
      "051525"
     ]
    }
   ],
   "source": [
    "for i in range(3):\n",
    "     print(i,end=\"5\")"
   ]
  },
  {
   "cell_type": "markdown",
   "metadata": {},
   "source": [
    "range(3) → 0, 1, 2\n",
    "\n",
    "print(i, end=\"5\")는 기본 줄바꿈 없이 i를 출력하고, 그 뒤에 \"5\"를 붙임"
   ]
  },
  {
   "cell_type": "code",
   "execution_count": 170,
   "metadata": {},
   "outputs": [
    {
     "name": "stdout",
     "output_type": "stream",
     "text": [
      "0 1 2 3 4 5 6 7 8 9 "
     ]
    }
   ],
   "source": [
    "for i in range(10):\n",
    "     print(i,end=\" \")"
   ]
  },
  {
   "cell_type": "code",
   "execution_count": 171,
   "metadata": {},
   "outputs": [
    {
     "name": "stdout",
     "output_type": "stream",
     "text": [
      "7 1 3 2 5 "
     ]
    }
   ],
   "source": [
    "for i in [7,1,3,2,5]:\n",
    "     print(i,end=\" \")"
   ]
  },
  {
   "cell_type": "code",
   "execution_count": 172,
   "metadata": {},
   "outputs": [
    {
     "name": "stdout",
     "output_type": "stream",
     "text": [
      "7 1 3 2 5 "
     ]
    }
   ],
   "source": [
    "for i in (7,1,3,2,5):\n",
    "     print(i,end=\" \")"
   ]
  },
  {
   "cell_type": "code",
   "execution_count": 173,
   "metadata": {},
   "outputs": [
    {
     "name": "stdout",
     "output_type": "stream",
     "text": [
      "[7, 1, 3]\n"
     ]
    }
   ],
   "source": [
    "a =[]\n",
    "for i in (7,1,3):\n",
    "    a.append(i) \n",
    "print(a) "
   ]
  },
  {
   "cell_type": "code",
   "execution_count": 174,
   "metadata": {},
   "outputs": [
    {
     "name": "stdout",
     "output_type": "stream",
     "text": [
      "[1, 4, 9]\n",
      "[2, 4, 6]\n",
      "[2, 3, 3, 4, 4, 5]\n",
      "[0, 1, 0, 0, 0, 1]\n",
      "[(1, 4), (1, 5), (2, 4), (2, 5), (3, 4), (3, 5)]\n",
      "[{1, 4}, {1, 5}, {2, 4}, {2, 5}, {3, 4}, {3, 5}]\n"
     ]
    }
   ],
   "source": [
    "a =[i**2 for i in [1,2,3]]; print(a)\n",
    "a= [i+i for i in [1,2,3]]; print(a) \n",
    "a = [i+j for i in [1,2,3] for j in (1,2)]; print(a) \n",
    "a = [i%j for i in [1,2,3] for j in (1,2)]; print(a) \n",
    "a =[(i,j) for i in [1,2,3] for j in (4,5)]; print(a) \n",
    "a =[{i,j} for i in [1,2,3] for j in (4,5)]; print(a) "
   ]
  },
  {
   "cell_type": "code",
   "execution_count": 175,
   "metadata": {},
   "outputs": [
    {
     "name": "stdout",
     "output_type": "stream",
     "text": [
      "['i']\n",
      "['L', 'f', 'e']\n"
     ]
    }
   ],
   "source": [
    "a = \"Life\"; b = [i for i in a if i in (\"i\",)]; print(b) \n",
    "a = \"Life\"; b = [i for i in a if i not in (\"i\",)]; print(b)"
   ]
  },
  {
   "cell_type": "code",
   "execution_count": 176,
   "metadata": {},
   "outputs": [
    {
     "name": "stdout",
     "output_type": "stream",
     "text": [
      "[(1, 'aaa'), (2, 'bbb'), (3, 'ccc')]\n"
     ]
    }
   ],
   "source": [
    "ids = [1, 2, 3] \n",
    "names = ['aaa', 'bbb', 'ccc'] \n",
    "students = zip(ids, names) \n",
    "print(list(students))"
   ]
  },
  {
   "cell_type": "code",
   "execution_count": 177,
   "metadata": {},
   "outputs": [
    {
     "name": "stdout",
     "output_type": "stream",
     "text": [
      "[(1, 'aaa'), (2, 'bbb')]\n"
     ]
    }
   ],
   "source": [
    "ids = [1, 2] \n",
    "names = ['aaa', 'bbb', 'ccc'] \n",
    "students = zip(ids, names) \n",
    "print(list(students))"
   ]
  },
  {
   "cell_type": "code",
   "execution_count": 178,
   "metadata": {},
   "outputs": [
    {
     "name": "stdout",
     "output_type": "stream",
     "text": [
      "(1, 2, 3) ('aaa', 'bbb', 'ccc')\n"
     ]
    }
   ],
   "source": [
    "ids = [1, 2, 3] \n",
    "names = ['aaa', 'bbb', 'ccc'] \n",
    "students = zip(ids, names) \n",
    "ids, names = zip(*students)\n",
    "print(ids, names)"
   ]
  },
  {
   "cell_type": "code",
   "execution_count": 179,
   "metadata": {},
   "outputs": [
    {
     "name": "stdout",
     "output_type": "stream",
     "text": [
      "{1: 'aaa', 2: 'bbb', 3: 'ccc'}\n"
     ]
    }
   ],
   "source": [
    "ids = [1, 2, 3] \n",
    "names = ['aaa', 'bbb', 'ccc'] \n",
    "students = zip(ids, names) \n",
    "print(dict(students))"
   ]
  },
  {
   "cell_type": "code",
   "execution_count": 180,
   "metadata": {},
   "outputs": [
    {
     "name": "stdout",
     "output_type": "stream",
     "text": [
      "[(1, 'aaa', 21), (2, 'bbb', 22), (3, 'ccc', 23)]\n"
     ]
    }
   ],
   "source": [
    "ids = [1, 2, 3] \n",
    "names = ['aaa', 'bbb', 'ccc'] \n",
    "ages = [21, 22, 23] \n",
    "students = zip(ids, names, ages) \n",
    "print(list(students))"
   ]
  },
  {
   "cell_type": "code",
   "execution_count": 181,
   "metadata": {},
   "outputs": [
    {
     "name": "stdout",
     "output_type": "stream",
     "text": [
      "{1: ('aaa', 21), 2: ('bbb', 22), 3: ('ccc', 23)}\n"
     ]
    }
   ],
   "source": [
    "ids = [1, 2,3] \n",
    "names = ['aaa', 'bbb', 'ccc'] \n",
    "ages = [21, 22, 23] \n",
    "students = zip(ids, zip(names, ages)) \n",
    "print(dict(students)) "
   ]
  },
  {
   "cell_type": "code",
   "execution_count": 182,
   "metadata": {},
   "outputs": [
    {
     "name": "stdout",
     "output_type": "stream",
     "text": [
      "{1: ['aaa', 'bbb', 'ccc'], 2: [21, 22, 23]}\n"
     ]
    }
   ],
   "source": [
    "ids = [1, 2, 3] \n",
    "names = ['aaa', 'bbb', 'ccc'] \n",
    "ages = [21, 22, 23] \n",
    "students = zip(ids, [names, ages]) \n",
    "print(dict(students))"
   ]
  },
  {
   "cell_type": "code",
   "execution_count": 183,
   "metadata": {},
   "outputs": [
    {
     "name": "stdout",
     "output_type": "stream",
     "text": [
      "[11, 12, 13]\n"
     ]
    }
   ],
   "source": [
    "nums = [1,2,3] \n",
    "addTen = lambda x:x+10 \n",
    "print(list(map(addTen, nums)))"
   ]
  },
  {
   "cell_type": "code",
   "execution_count": 184,
   "metadata": {},
   "outputs": [
    {
     "name": "stdout",
     "output_type": "stream",
     "text": [
      "(11, 12, 13)\n"
     ]
    }
   ],
   "source": [
    "nums = [1,2,3] \n",
    "addTen = lambda x:x+10 \n",
    "print(tuple(map(addTen, nums)))"
   ]
  },
  {
   "cell_type": "code",
   "execution_count": 185,
   "metadata": {},
   "outputs": [
    {
     "name": "stdout",
     "output_type": "stream",
     "text": [
      "(11, 12, 13)\n"
     ]
    }
   ],
   "source": [
    "nums = [1,2,3] \n",
    "print(tuple(map(lambda x:x+10, nums)))"
   ]
  },
  {
   "cell_type": "code",
   "execution_count": 186,
   "metadata": {},
   "outputs": [
    {
     "name": "stdout",
     "output_type": "stream",
     "text": [
      "(True, False, True)\n"
     ]
    }
   ],
   "source": [
    "nums = [1,2,3] \n",
    "isOdds = lambda x: x%2==1\n",
    "print(tuple(map(isOdds, nums)))"
   ]
  },
  {
   "cell_type": "code",
   "execution_count": 187,
   "metadata": {},
   "outputs": [
    {
     "name": "stdout",
     "output_type": "stream",
     "text": [
      "[1, 3]\n"
     ]
    }
   ],
   "source": [
    "nums = [1,2,3] \n",
    "isOdds = lambda x: x%2==1\n",
    "print(list(filter(isOdds, nums)))"
   ]
  },
  {
   "cell_type": "code",
   "execution_count": 188,
   "metadata": {},
   "outputs": [
    {
     "name": "stdout",
     "output_type": "stream",
     "text": [
      "(1, 3)\n"
     ]
    }
   ],
   "source": [
    "nums = [1,2,3] \n",
    "isOdds = lambda x: x%2==1\n",
    "print(tuple(filter(isOdds, nums)))"
   ]
  },
  {
   "cell_type": "code",
   "execution_count": 189,
   "metadata": {},
   "outputs": [
    {
     "name": "stdout",
     "output_type": "stream",
     "text": [
      "[1, 3]\n"
     ]
    }
   ],
   "source": [
    "nums = [1,2,3] \n",
    "print(list(filter(lambda x: x%2==1, nums)))"
   ]
  },
  {
   "cell_type": "code",
   "execution_count": 190,
   "metadata": {},
   "outputs": [
    {
     "name": "stdout",
     "output_type": "stream",
     "text": [
      "[1, 2, 3]\n",
      "[11, 12, 13]\n",
      "[1, 8, 27]\n",
      "['aaa', 'bbb', 'ccc']\n",
      "['aaa', 'bbb', 'ccc']\n"
     ]
    }
   ],
   "source": [
    "print([num for num in range(1, 4) ])\n",
    "print([num+10 for num in range(1, 4)]) \n",
    "print([num**3 for num in range(1, 4)]) \n",
    "print([x*3 for x in ['a', 'b', 'c']]) \n",
    "print([x*3 for x in 'abc']) "
   ]
  },
  {
   "cell_type": "code",
   "execution_count": 191,
   "metadata": {},
   "outputs": [
    {
     "name": "stdout",
     "output_type": "stream",
     "text": [
      "[1, 3]\n",
      "[8]\n",
      "[1, 8, 3]\n",
      "[11, 21, 12, 22]\n",
      "['ac', 'ad', 'bc', 'bd']\n",
      "['ac', 'ba', 'bc']\n"
     ]
    }
   ],
   "source": [
    "print([num for num in range(1, 4) if num%2==1])\n",
    "print([num**3 for num in range(1, 4) if num%2==0]) \n",
    "print([num if num%2==1 else num**3 for num in range(1, 4)])\n",
    "print([x+y for x in [1, 2] for y in [10, 20]])\n",
    "print([x+y for x in ['a', 'b'] for y in ['c', 'd']])\n",
    "print([x+y for x in ['a', 'b'] for y in ['a', 'c'] if x!=y]) "
   ]
  },
  {
   "cell_type": "code",
   "execution_count": 192,
   "metadata": {},
   "outputs": [
    {
     "name": "stdout",
     "output_type": "stream",
     "text": [
      "{1: 10, 2: 10, 3: 10}\n",
      "{'A': False, 'B': False, 'C': False}\n",
      "{1: 'C', 2: 'C', 3: 'C'}\n",
      "{'A': 3, 'B': 3, 'C': 3}\n",
      "{'a', 'c', 'b'}\n",
      "{1, 2, 3}\n",
      "{1, 4, 9}\n"
     ]
    }
   ],
   "source": [
    "print({key:10 for key in [1, 2, 3]}) \n",
    "print({key:False for key in ['A', 'B', 'C']})\n",
    "print({key:value for key in [1, 2, 3] for value in ['A', 'B', 'C']}) \n",
    "print({key:value for value in [1, 2, 3] for key in ['A', 'B', 'C']}) \n",
    "print({x for x in 'abcabcabc'}) \n",
    "print({x for x in [1,2,3,1,2,3]}) \n",
    "print({x**2 for x in [1,2,3,1,2,3]}) "
   ]
  }
 ],
 "metadata": {
  "kernelspec": {
   "display_name": "base",
   "language": "python",
   "name": "python3"
  },
  "language_info": {
   "codemirror_mode": {
    "name": "ipython",
    "version": 3
   },
   "file_extension": ".py",
   "mimetype": "text/x-python",
   "name": "python",
   "nbconvert_exporter": "python",
   "pygments_lexer": "ipython3",
   "version": "3.12.9"
  }
 },
 "nbformat": 4,
 "nbformat_minor": 2
}
